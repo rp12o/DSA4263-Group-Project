{
 "cells": [
  {
   "cell_type": "code",
   "execution_count": 8,
   "id": "f633e53a",
   "metadata": {},
   "outputs": [],
   "source": [
    "import pandas as pd\n",
    "from sklearn.preprocessing import LabelEncoder\n",
    "from sklearn.model_selection import train_test_split\n",
    "\n",
    "df = pd.read_csv('../data/raw/onlinefraud.csv')\n",
    "\n",
    "transaction_types_to_remove = ['CASH_IN', 'DEBIT', 'PAYMENT']\n",
    "df = df[~df['type'].isin(transaction_types_to_remove)]\n",
    "\n",
    "df['balanceDiffOrig'] = df['oldbalanceOrg'] - df['newbalanceOrig']\n",
    "\n",
    "columns_to_drop = ['nameOrig', 'nameDest', 'oldbalanceDest', 'newbalanceOrig', 'newbalanceDest']\n",
    "df = df.drop(columns=columns_to_drop)\n",
    "\n",
    "label_encoder = LabelEncoder()\n",
    "df['type_encoded'] = label_encoder.fit_transform(df['type'])\n",
    "\n",
    "# Step 6: Split the dataset into features (X) and target (y)\n",
    "X = df.drop('isFraud', axis=1)  # All columns except 'isFraud'\n",
    "y = df['isFraud']  # The target variable\n",
    "\n",
    "# Step 7: Split the dataset into training and testing sets (70-30 split)\n",
    "X_train, X_test, y_train, y_test = train_test_split(X, y, test_size=0.3, random_state=42, stratify=y)\n",
    "\n",
    "# Step 8: Save the original training and testing data to separate Excel files\n",
    "df_train = pd.concat([X_train, y_train], axis=1)  # Combine X_train and y_train\n",
    "df_test = pd.concat([X_test, y_test], axis=1)  # Combine X_test and y_test\n",
    "\n"
   ]
  },
  {
   "cell_type": "code",
   "execution_count": 9,
   "id": "8e360546",
   "metadata": {},
   "outputs": [
    {
     "name": "stdout",
     "output_type": "stream",
     "text": [
      "Data saved successfully!\n",
      "Train Data: (1939286, 8)\n",
      "Test Data: (831123, 8)\n"
     ]
    }
   ],
   "source": [
    "# Saving as compressed .zip files using pandas (Excel format inside .zip)\n",
    "df_train.to_csv('../data/processed/train_data.csv.gz', index=False, compression='gzip')\n",
    "df_test.to_csv('../data/processed/test_data.csv.gz', index=False, compression='gzip')\n",
    "\n",
    "# Check a sample of the saved data to confirm everything worked\n",
    "print(\"Data saved successfully!\")\n",
    "print(f\"Train Data: {df_train.shape}\")\n",
    "print(f\"Test Data: {df_test.shape}\")"
   ]
  }
 ],
 "metadata": {
  "kernelspec": {
   "display_name": "venv",
   "language": "python",
   "name": "python3"
  },
  "language_info": {
   "codemirror_mode": {
    "name": "ipython",
    "version": 3
   },
   "file_extension": ".py",
   "mimetype": "text/x-python",
   "name": "python",
   "nbconvert_exporter": "python",
   "pygments_lexer": "ipython3",
   "version": "3.13.3"
  }
 },
 "nbformat": 4,
 "nbformat_minor": 5
}
